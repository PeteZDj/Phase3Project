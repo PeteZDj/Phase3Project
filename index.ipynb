{
 "cells": [
  {
   "cell_type": "markdown",
   "metadata": {},
   "source": [
    "# Data Science Moringa Group Project - A Data Science Phase 3 Project\n",
    "# Final Project Submission\n",
    "#####:\n",
    "\n",
    "Student name: Pete Njagi,\n",
    "          \n",
    "\n",
    "Student pace: DS-full time-Online\n",
    "\n",
    "Scheduled project review date/time: March 10th 2024\n",
    "\n",
    "###GitHub Link:\n",
    "https://github.com/petezdj/\n",
    "\n",
    "<img src=\"big%20data-1.jpg\" alt=\"drawing\" width=\"700\"/>\n",
    "\n",
    "#### Important Project Files:\n",
    "\n",
    "1. index.ipynb (Main Juypter document)\n",
    "2. Presentation.pdf (Presentation)\n",
    "3. Data_sci_jobs.csv (Main Data)\n",
    "4. Optional Project Pdf\n",
    "\n",
    "## Introduction\n",
    "KenyaData Insights, "
   ]
  },
  {
   "cell_type": "code",
   "execution_count": null,
   "metadata": {},
   "outputs": [],
   "source": []
  }
 ],
 "metadata": {
  "language_info": {
   "name": "python"
  }
 },
 "nbformat": 4,
 "nbformat_minor": 2
}
