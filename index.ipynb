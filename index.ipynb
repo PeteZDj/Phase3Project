{
 "cells": [
  {
   "cell_type": "markdown",
   "metadata": {},
   "source": [
    "# Data Science Moringa Group Project - A Data Science Phase 3 Project\n",
    "# Final Project Submission\n",
    "#####:\n",
    "\n",
    "Student name: Pete Njagi,\n",
    "          \n",
    "\n",
    "Student pace: DS-full time-Online\n",
    "\n",
    "Scheduled project review date/time: March 10th 2024\n",
    "\n",
    "###GitHub Link:\n",
    "https://github.com/petezdj/Phase3Project\n",
    "\n",
    "<img src=\"big%20data-1.jpg\" alt=\"drawing\" width=\"700\"/>\n",
    "\n",
    "#### Important Project Files:\n",
    "\n",
    "1. index.ipynb (Main Juypter document)\n",
    "2. Presentation.pdf (Presentation)\n",
    "3. Data_sci_jobs.csv (Main Data)\n",
    "4. Optional Project Pdf\n",
    "\n",
    "## Introduction\n",
    "KenyaData Insights, "
   ]
  },
  {
   "cell_type": "code",
   "execution_count": 2,
   "metadata": {},
   "outputs": [],
   "source": [
    "import pandas as pd"
   ]
  },
  {
   "cell_type": "code",
   "execution_count": 3,
   "metadata": {},
   "outputs": [],
   "source": [
    "# We must start with loading the datasets\n",
    "train_values = pd.read_csv('TrainingSetValues.csv')\n",
    "train_labels = pd.read_csv('TrainingSetLabels.csv')"
   ]
  },
  {
   "cell_type": "code",
   "execution_count": 4,
   "metadata": {},
   "outputs": [],
   "source": [
    "# Merge the training values and labels for a complete training dataset\n",
    "train_data = pd.merge(train_values, train_labels, on='id')"
   ]
  },
  {
   "cell_type": "code",
   "execution_count": 7,
   "metadata": {},
   "outputs": [
    {
     "data": {
      "text/plain": [
       "(      id  amount_tsh date_recorded        funder  gps_height     installer  \\\n",
       " 0  69572      6000.0    2011-03-14         Roman        1390         Roman   \n",
       " 1   8776         0.0    2013-03-06       Grumeti        1399       GRUMETI   \n",
       " 2  34310        25.0    2013-02-25  Lottery Club         686  World vision   \n",
       " 3  67743         0.0    2013-01-28        Unicef         263        UNICEF   \n",
       " 4  19728         0.0    2011-07-13   Action In A           0       Artisan   \n",
       " \n",
       "    longitude   latitude              wpt_name  num_private  ... water_quality  \\\n",
       " 0  34.938093  -9.856322                  none            0  ...          soft   \n",
       " 1  34.698766  -2.147466              Zahanati            0  ...          soft   \n",
       " 2  37.460664  -3.821329           Kwa Mahundi            0  ...          soft   \n",
       " 3  38.486161 -11.155298  Zahanati Ya Nanyumbu            0  ...          soft   \n",
       " 4  31.130847  -1.825359               Shuleni            0  ...          soft   \n",
       " \n",
       "   quality_group      quantity  quantity_group                source  \\\n",
       " 0          good        enough          enough                spring   \n",
       " 1          good  insufficient    insufficient  rainwater harvesting   \n",
       " 2          good        enough          enough                   dam   \n",
       " 3          good           dry             dry           machine dbh   \n",
       " 4          good      seasonal        seasonal  rainwater harvesting   \n",
       " \n",
       "             source_type source_class              waterpoint_type  \\\n",
       " 0                spring  groundwater           communal standpipe   \n",
       " 1  rainwater harvesting      surface           communal standpipe   \n",
       " 2                   dam      surface  communal standpipe multiple   \n",
       " 3              borehole  groundwater  communal standpipe multiple   \n",
       " 4  rainwater harvesting      surface           communal standpipe   \n",
       " \n",
       "   waterpoint_type_group    status_group  \n",
       " 0    communal standpipe      functional  \n",
       " 1    communal standpipe      functional  \n",
       " 2    communal standpipe      functional  \n",
       " 3    communal standpipe  non functional  \n",
       " 4    communal standpipe      functional  \n",
       " \n",
       " [5 rows x 41 columns],\n",
       "                   id     amount_tsh date_recorded                  funder  \\\n",
       " count   59400.000000   59400.000000         59400                   55763   \n",
       " unique           NaN            NaN           356                    1896   \n",
       " top              NaN            NaN    2011-03-15  Government Of Tanzania   \n",
       " freq             NaN            NaN           572                    9084   \n",
       " mean    37115.131768     317.650385           NaN                     NaN   \n",
       " std     21453.128371    2997.574558           NaN                     NaN   \n",
       " min         0.000000       0.000000           NaN                     NaN   \n",
       " 25%     18519.750000       0.000000           NaN                     NaN   \n",
       " 50%     37061.500000       0.000000           NaN                     NaN   \n",
       " 75%     55656.500000      20.000000           NaN                     NaN   \n",
       " max     74247.000000  350000.000000           NaN                     NaN   \n",
       " \n",
       "           gps_height installer     longitude      latitude wpt_name  \\\n",
       " count   59400.000000     55745  59400.000000  5.940000e+04    59398   \n",
       " unique           NaN      2145           NaN           NaN    37399   \n",
       " top              NaN       DWE           NaN           NaN     none   \n",
       " freq             NaN     17402           NaN           NaN     3563   \n",
       " mean      668.297239       NaN     34.077427 -5.706033e+00      NaN   \n",
       " std       693.116350       NaN      6.567432  2.946019e+00      NaN   \n",
       " min       -90.000000       NaN      0.000000 -1.164944e+01      NaN   \n",
       " 25%         0.000000       NaN     33.090347 -8.540621e+00      NaN   \n",
       " 50%       369.000000       NaN     34.908743 -5.021597e+00      NaN   \n",
       " 75%      1319.250000       NaN     37.178387 -3.326156e+00      NaN   \n",
       " max      2770.000000       NaN     40.345193 -2.000000e-08      NaN   \n",
       " \n",
       "          num_private  ... water_quality quality_group quantity  \\\n",
       " count   59400.000000  ...         59400         59400    59400   \n",
       " unique           NaN  ...             8             6        5   \n",
       " top              NaN  ...          soft          good   enough   \n",
       " freq             NaN  ...         50818         50818    33186   \n",
       " mean        0.474141  ...           NaN           NaN      NaN   \n",
       " std        12.236230  ...           NaN           NaN      NaN   \n",
       " min         0.000000  ...           NaN           NaN      NaN   \n",
       " 25%         0.000000  ...           NaN           NaN      NaN   \n",
       " 50%         0.000000  ...           NaN           NaN      NaN   \n",
       " 75%         0.000000  ...           NaN           NaN      NaN   \n",
       " max      1776.000000  ...           NaN           NaN      NaN   \n",
       " \n",
       "         quantity_group  source source_type source_class     waterpoint_type  \\\n",
       " count            59400   59400       59400        59400               59400   \n",
       " unique               5      10           7            3                   7   \n",
       " top             enough  spring      spring  groundwater  communal standpipe   \n",
       " freq             33186   17021       17021        45794               28522   \n",
       " mean               NaN     NaN         NaN          NaN                 NaN   \n",
       " std                NaN     NaN         NaN          NaN                 NaN   \n",
       " min                NaN     NaN         NaN          NaN                 NaN   \n",
       " 25%                NaN     NaN         NaN          NaN                 NaN   \n",
       " 50%                NaN     NaN         NaN          NaN                 NaN   \n",
       " 75%                NaN     NaN         NaN          NaN                 NaN   \n",
       " max                NaN     NaN         NaN          NaN                 NaN   \n",
       " \n",
       "        waterpoint_type_group status_group  \n",
       " count                  59400        59400  \n",
       " unique                     6            3  \n",
       " top       communal standpipe   functional  \n",
       " freq                   34625        32259  \n",
       " mean                     NaN          NaN  \n",
       " std                      NaN          NaN  \n",
       " min                      NaN          NaN  \n",
       " 25%                      NaN          NaN  \n",
       " 50%                      NaN          NaN  \n",
       " 75%                      NaN          NaN  \n",
       " max                      NaN          NaN  \n",
       " \n",
       " [11 rows x 41 columns])"
      ]
     },
     "execution_count": 7,
     "metadata": {},
     "output_type": "execute_result"
    }
   ],
   "source": [
    "# Display the first few rows of the dataset and its summary statistics\n",
    "train_data.head(), train_data.describe(include='all')"
   ]
  },
  {
   "cell_type": "code",
   "execution_count": 8,
   "metadata": {},
   "outputs": [],
   "source": [
    "# Categorical columns with missing values\n",
    "categorical_cols_missing = ['funder', 'installer', 'subvillage', 'public_meeting', 'scheme_management', 'scheme_name', 'permit']"
   ]
  },
  {
   "cell_type": "code",
   "execution_count": 9,
   "metadata": {},
   "outputs": [],
   "source": [
    "# Fill missing values with the mode\n",
    "for col in categorical_cols_missing:\n",
    "    mode_value = train_data[col].mode()[0]\n",
    "    train_data[col].fillna(mode_value, inplace=True)"
   ]
  },
  {
   "cell_type": "code",
   "execution_count": 10,
   "metadata": {},
   "outputs": [
    {
     "data": {
      "text/plain": [
       "(      id  amount_tsh  date_recorded  funder  gps_height  installer  longitude  \\\n",
       " 0  69572      6000.0             47    1368        1390       1518  34.938093   \n",
       " 1   8776         0.0            309     469        1399        545  34.698766   \n",
       " 2  34310        25.0            300     825         686       2048  37.460664   \n",
       " 3  67743         0.0            272    1740         263       1852  38.486161   \n",
       " 4  19728         0.0            104      20           0        119  31.130847   \n",
       " \n",
       "     latitude  wpt_name  num_private  ...  water_quality  quality_group  \\\n",
       " 0  -9.856322     37398            0  ...              6              2   \n",
       " 1  -2.147466     37194            0  ...              6              2   \n",
       " 2  -3.821329     14572            0  ...              6              2   \n",
       " 3 -11.155298     37284            0  ...              6              2   \n",
       " 4  -1.825359     35528            0  ...              6              2   \n",
       " \n",
       "    quantity  quantity_group  source  source_type  source_class  \\\n",
       " 0         1               1       8            6             0   \n",
       " 1         2               2       5            3             1   \n",
       " 2         1               1       0            1             1   \n",
       " 3         0               0       3            0             0   \n",
       " 4         3               3       5            3             1   \n",
       " \n",
       "    waterpoint_type  waterpoint_type_group    status_group  \n",
       " 0                1                      1      functional  \n",
       " 1                1                      1      functional  \n",
       " 2                2                      1      functional  \n",
       " 3                2                      1  non functional  \n",
       " 4                1                      1      functional  \n",
       " \n",
       " [5 rows x 41 columns],\n",
       " id                       0\n",
       " amount_tsh               0\n",
       " date_recorded            0\n",
       " funder                   0\n",
       " gps_height               0\n",
       " installer                0\n",
       " longitude                0\n",
       " latitude                 0\n",
       " wpt_name                 0\n",
       " num_private              0\n",
       " basin                    0\n",
       " subvillage               0\n",
       " region                   0\n",
       " region_code              0\n",
       " district_code            0\n",
       " lga                      0\n",
       " ward                     0\n",
       " population               0\n",
       " public_meeting           0\n",
       " recorded_by              0\n",
       " scheme_management        0\n",
       " scheme_name              0\n",
       " permit                   0\n",
       " construction_year        0\n",
       " extraction_type          0\n",
       " extraction_type_group    0\n",
       " extraction_type_class    0\n",
       " management               0\n",
       " management_group         0\n",
       " payment                  0\n",
       " payment_type             0\n",
       " water_quality            0\n",
       " quality_group            0\n",
       " quantity                 0\n",
       " quantity_group           0\n",
       " source                   0\n",
       " source_type              0\n",
       " source_class             0\n",
       " waterpoint_type          0\n",
       " waterpoint_type_group    0\n",
       " status_group             0\n",
       " dtype: int64)"
      ]
     },
     "execution_count": 10,
     "metadata": {},
     "output_type": "execute_result"
    }
   ],
   "source": [
    "# Encoding categorical variables using a label encoding strategy\n",
    "# We will use label encoding instead of one-hot because of the high cardinality of some variables\n",
    "\n",
    "from sklearn.preprocessing import LabelEncoder\n",
    "\n",
    "# Initialize LabelEncoder\n",
    "label_encoder = LabelEncoder()\n",
    "\n",
    "# List of categorical columns to encode\n",
    "categorical_cols = train_data.select_dtypes(include=['object']).columns.tolist()\n",
    "categorical_cols.remove('status_group')  # Exclude target variable\n",
    "\n",
    "# Apply LabelEncoder to each categorical column\n",
    "for col in categorical_cols:\n",
    "    train_data[col] = label_encoder.fit_transform(train_data[col])\n",
    "\n",
    "# Verify the encoding and missing value treatment\n",
    "train_data.head(), train_data.isnull().sum()"
   ]
  },
  {
   "cell_type": "code",
   "execution_count": 11,
   "metadata": {},
   "outputs": [
    {
     "data": {
      "text/plain": [
       "((47520, 39), (11880, 39), (47520,), (11880,))"
      ]
     },
     "execution_count": 11,
     "metadata": {},
     "output_type": "execute_result"
    }
   ],
   "source": [
    "from sklearn.model_selection import train_test_split\n",
    "\n",
    "# Splitting the data into features and target\n",
    "X = train_data.drop(['id', 'status_group'], axis=1) # 'id' is just an identifier and not a feature\n",
    "y = train_data['status_group']\n",
    "\n",
    "# Encoding the target variable\n",
    "y_encoded = label_encoder.fit_transform(y)\n",
    "\n",
    "# Split the data into training and validation sets (80% train, 20% validation)\n",
    "X_train, X_val, y_train, y_val = train_test_split(X, y_encoded, test_size=0.2, random_state=42)\n",
    "\n",
    "# Checking the shape of the datasets\n",
    "X_train.shape, X_val.shape, y_train.shape, y_val.shape"
   ]
  },
  {
   "cell_type": "code",
   "execution_count": 12,
   "metadata": {},
   "outputs": [
    {
     "name": "stderr",
     "output_type": "stream",
     "text": [
      "c:\\Users\\PeteD\\anaconda3\\envs\\learn-env\\lib\\site-packages\\sklearn\\utils\\validation.py:757: FutureWarning: is_sparse is deprecated and will be removed in a future version. Check `isinstance(dtype, pd.SparseDtype)` instead.\n",
      "  if not hasattr(array, \"sparse\") and array.dtypes.apply(is_sparse).any():\n",
      "c:\\Users\\PeteD\\anaconda3\\envs\\learn-env\\lib\\site-packages\\sklearn\\utils\\validation.py:595: FutureWarning: is_sparse is deprecated and will be removed in a future version. Check `isinstance(dtype, pd.SparseDtype)` instead.\n",
      "  if is_sparse(pd_dtype):\n",
      "c:\\Users\\PeteD\\anaconda3\\envs\\learn-env\\lib\\site-packages\\sklearn\\utils\\validation.py:604: FutureWarning: is_sparse is deprecated and will be removed in a future version. Check `isinstance(dtype, pd.SparseDtype)` instead.\n",
      "  if is_sparse(pd_dtype) or not is_extension_array_dtype(pd_dtype):\n",
      "c:\\Users\\PeteD\\anaconda3\\envs\\learn-env\\lib\\site-packages\\sklearn\\utils\\validation.py:757: FutureWarning: is_sparse is deprecated and will be removed in a future version. Check `isinstance(dtype, pd.SparseDtype)` instead.\n",
      "  if not hasattr(array, \"sparse\") and array.dtypes.apply(is_sparse).any():\n",
      "c:\\Users\\PeteD\\anaconda3\\envs\\learn-env\\lib\\site-packages\\sklearn\\utils\\validation.py:595: FutureWarning: is_sparse is deprecated and will be removed in a future version. Check `isinstance(dtype, pd.SparseDtype)` instead.\n",
      "  if is_sparse(pd_dtype):\n",
      "c:\\Users\\PeteD\\anaconda3\\envs\\learn-env\\lib\\site-packages\\sklearn\\utils\\validation.py:604: FutureWarning: is_sparse is deprecated and will be removed in a future version. Check `isinstance(dtype, pd.SparseDtype)` instead.\n",
      "  if is_sparse(pd_dtype) or not is_extension_array_dtype(pd_dtype):\n"
     ]
    },
    {
     "data": {
      "text/plain": [
       "'              precision    recall  f1-score   support\\n\\n           0       0.81      0.90      0.85      6457\\n           1       0.56      0.35      0.43       851\\n           2       0.85      0.79      0.82      4572\\n\\n    accuracy                           0.81     11880\\n   macro avg       0.74      0.68      0.70     11880\\nweighted avg       0.81      0.81      0.81     11880\\n'"
      ]
     },
     "execution_count": 12,
     "metadata": {},
     "output_type": "execute_result"
    }
   ],
   "source": [
    "from sklearn.ensemble import RandomForestClassifier\n",
    "from sklearn.metrics import classification_report\n",
    "\n",
    "# Initialize the Random Forest classifier\n",
    "rf_clf = RandomForestClassifier(n_estimators=100, random_state=42)\n",
    "\n",
    "# Fit the model to the training data\n",
    "rf_clf.fit(X_train, y_train)\n",
    "\n",
    "# Predict on the validation set\n",
    "y_val_pred = rf_clf.predict(X_val)\n",
    "\n",
    "# Evaluate the model\n",
    "classification_rep = classification_report(y_val, y_val_pred)\n",
    "\n",
    "classification_rep\n"
   ]
  }
 ],
 "metadata": {
  "kernelspec": {
   "display_name": "Python (learn-env)",
   "language": "python",
   "name": "learn-env"
  },
  "language_info": {
   "codemirror_mode": {
    "name": "ipython",
    "version": 3
   },
   "file_extension": ".py",
   "mimetype": "text/x-python",
   "name": "python",
   "nbconvert_exporter": "python",
   "pygments_lexer": "ipython3",
   "version": "3.10.13"
  }
 },
 "nbformat": 4,
 "nbformat_minor": 2
}
